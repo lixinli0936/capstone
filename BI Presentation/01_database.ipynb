{
 "cells": [
  {
   "cell_type": "code",
   "execution_count": 1,
   "id": "7800ad99-f68d-41ff-96d8-496fb3de1ebd",
   "metadata": {},
   "outputs": [],
   "source": [
    "import pandas as pd\n",
    "from datetime import datetime"
   ]
  },
  {
   "cell_type": "code",
   "execution_count": 6,
   "id": "3fbb8444-4958-46eb-954d-8cde9263d231",
   "metadata": {},
   "outputs": [],
   "source": [
    "user = 'py'\n",
    "pwd = 'python123'\n",
    "server = 'localhost'\n",
    "instance = 'SQLServer2022'\n",
    "port = '1533'\n",
    "db = 'ukbike'"
   ]
  },
  {
   "cell_type": "code",
   "execution_count": 7,
   "id": "20855f88-890e-4f0c-a416-c5c29b86840b",
   "metadata": {},
   "outputs": [],
   "source": [
    "# 1:sqlalchemy\n",
    "from sqlalchemy import create_engine\n",
    "\n",
    "#conn_string = f'mssql+pymssql://{user}:{pwd}@{server}/{instance}/{db}'  # doesn't work\n",
    "conn_string = f'mssql+pymssql://{user}:{pwd}@{server}:{port}/{db}'\n",
    "engine = create_engine(conn_string)\n",
    "conn = engine.connect()"
   ]
  },
  {
   "cell_type": "code",
   "execution_count": 8,
   "id": "36904fb0-dcba-4a43-a24f-bd9d04395c25",
   "metadata": {},
   "outputs": [],
   "source": [
    "accidents=pd.read_csv('./data/Accidents.csv')\n",
    "bikers=pd.read_csv('./data/Bikers.csv')\n",
    "prediction=pd.read_csv('./data/prediction.csv')"
   ]
  },
  {
   "cell_type": "code",
   "execution_count": 22,
   "id": "9fa6e363-f28b-42cf-9ddf-aa305b226002",
   "metadata": {},
   "outputs": [],
   "source": [
    "column_names = prediction.columns.tolist()\n",
    "column_names[0] = 'Date'\n",
    "column_names[1] = 'Predict_cnt'\n",
    "prediction.columns = column_names"
   ]
  },
  {
   "cell_type": "code",
   "execution_count": 25,
   "id": "badd252f-2199-4706-8b2e-df9d2a59f825",
   "metadata": {},
   "outputs": [
    {
     "data": {
      "text/plain": [
       "827"
      ]
     },
     "execution_count": 25,
     "metadata": {},
     "output_type": "execute_result"
    }
   ],
   "source": [
    "accidents.to_sql('accidents',conn,if_exists='replace',index=False)\n",
    "bikers.to_sql('bikers',conn,if_exists='replace',index=False)\n",
    "prediction.to_sql('prediction',conn,if_exists='replace',index=False)"
   ]
  },
  {
   "cell_type": "raw",
   "id": "8d64d9c4-b71b-4f05-a2b0-792e71cc2f18",
   "metadata": {},
   "source": []
  }
 ],
 "metadata": {
  "kernelspec": {
   "display_name": "Python 3 (ipykernel)",
   "language": "python",
   "name": "python3"
  },
  "language_info": {
   "codemirror_mode": {
    "name": "ipython",
    "version": 3
   },
   "file_extension": ".py",
   "mimetype": "text/x-python",
   "name": "python",
   "nbconvert_exporter": "python",
   "pygments_lexer": "ipython3",
   "version": "3.11.8"
  },
  "widgets": {
   "application/vnd.jupyter.widget-state+json": {
    "state": {},
    "version_major": 2,
    "version_minor": 0
   }
  }
 },
 "nbformat": 4,
 "nbformat_minor": 5
}
